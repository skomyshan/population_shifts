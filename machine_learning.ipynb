{
 "cells": [
  {
   "cell_type": "markdown",
   "id": "4e5b35f8",
   "metadata": {},
   "source": [
    "# Machine Learning Model - Logistic Regression"
   ]
  },
  {
   "cell_type": "code",
   "execution_count": 15,
   "id": "27305b93",
   "metadata": {},
   "outputs": [],
   "source": [
    "import numpy as np\n",
    "import pandas as pd\n",
    "from pathlib import Path\n",
    "from collections import Counter"
   ]
  },
  {
   "cell_type": "code",
   "execution_count": 16,
   "id": "a5c94fb0",
   "metadata": {},
   "outputs": [],
   "source": [
    "from sklearn.linear_model import LogisticRegression\n",
    "from sklearn.metrics import confusion_matrix, classification_report, accuracy_score, balanced_accuracy_score\n",
    "from imblearn.metrics import classification_report_imbalanced"
   ]
  },
  {
   "cell_type": "markdown",
   "id": "e9e7e683",
   "metadata": {},
   "source": [
    "### Load data in from database"
   ]
  },
  {
   "cell_type": "code",
   "execution_count": 17,
   "id": "0fae792c",
   "metadata": {},
   "outputs": [
    {
     "data": {
      "text/html": [
       "<div>\n",
       "<style scoped>\n",
       "    .dataframe tbody tr th:only-of-type {\n",
       "        vertical-align: middle;\n",
       "    }\n",
       "\n",
       "    .dataframe tbody tr th {\n",
       "        vertical-align: top;\n",
       "    }\n",
       "\n",
       "    .dataframe thead th {\n",
       "        text-align: right;\n",
       "    }\n",
       "</style>\n",
       "<table border=\"1\" class=\"dataframe\">\n",
       "  <thead>\n",
       "    <tr style=\"text-align: right;\">\n",
       "      <th></th>\n",
       "      <th>Country_Code</th>\n",
       "      <th>Year</th>\n",
       "      <th>Population_Change</th>\n",
       "      <th>Inflation_Diff</th>\n",
       "      <th>Military_Diff</th>\n",
       "      <th>Export_Diff</th>\n",
       "      <th>Life_Diff</th>\n",
       "      <th>GDP_Diff</th>\n",
       "    </tr>\n",
       "  </thead>\n",
       "  <tbody>\n",
       "    <tr>\n",
       "      <th>0</th>\n",
       "      <td>ABW</td>\n",
       "      <td>1960</td>\n",
       "      <td>0</td>\n",
       "      <td>NaN</td>\n",
       "      <td>NaN</td>\n",
       "      <td>NaN</td>\n",
       "      <td>NaN</td>\n",
       "      <td>NaN</td>\n",
       "    </tr>\n",
       "    <tr>\n",
       "      <th>1</th>\n",
       "      <td>ABW</td>\n",
       "      <td>1961</td>\n",
       "      <td>0</td>\n",
       "      <td>NaN</td>\n",
       "      <td>NaN</td>\n",
       "      <td>NaN</td>\n",
       "      <td>0.006275</td>\n",
       "      <td>NaN</td>\n",
       "    </tr>\n",
       "    <tr>\n",
       "      <th>2</th>\n",
       "      <td>ABW</td>\n",
       "      <td>1962</td>\n",
       "      <td>0</td>\n",
       "      <td>NaN</td>\n",
       "      <td>NaN</td>\n",
       "      <td>NaN</td>\n",
       "      <td>0.005600</td>\n",
       "      <td>NaN</td>\n",
       "    </tr>\n",
       "    <tr>\n",
       "      <th>3</th>\n",
       "      <td>ABW</td>\n",
       "      <td>1963</td>\n",
       "      <td>0</td>\n",
       "      <td>NaN</td>\n",
       "      <td>NaN</td>\n",
       "      <td>NaN</td>\n",
       "      <td>0.005162</td>\n",
       "      <td>NaN</td>\n",
       "    </tr>\n",
       "    <tr>\n",
       "      <th>4</th>\n",
       "      <td>ABW</td>\n",
       "      <td>1964</td>\n",
       "      <td>0</td>\n",
       "      <td>NaN</td>\n",
       "      <td>NaN</td>\n",
       "      <td>NaN</td>\n",
       "      <td>0.004881</td>\n",
       "      <td>NaN</td>\n",
       "    </tr>\n",
       "  </tbody>\n",
       "</table>\n",
       "</div>"
      ],
      "text/plain": [
       "  Country_Code  Year  Population_Change  Inflation_Diff  Military_Diff  \\\n",
       "0          ABW  1960                  0             NaN            NaN   \n",
       "1          ABW  1961                  0             NaN            NaN   \n",
       "2          ABW  1962                  0             NaN            NaN   \n",
       "3          ABW  1963                  0             NaN            NaN   \n",
       "4          ABW  1964                  0             NaN            NaN   \n",
       "\n",
       "   Export_Diff  Life_Diff  GDP_Diff  \n",
       "0          NaN        NaN       NaN  \n",
       "1          NaN   0.006275       NaN  \n",
       "2          NaN   0.005600       NaN  \n",
       "3          NaN   0.005162       NaN  \n",
       "4          NaN   0.004881       NaN  "
      ]
     },
     "execution_count": 17,
     "metadata": {},
     "output_type": "execute_result"
    }
   ],
   "source": [
    "machine_learning_df = pd.read_csv('resources/machine_learning_df.txt')\n",
    "machine_learning_df.head()"
   ]
  },
  {
   "cell_type": "markdown",
   "id": "9d5b7f68",
   "metadata": {},
   "source": [
    "### Clean Data (remove N/A)"
   ]
  },
  {
   "cell_type": "code",
   "execution_count": 18,
   "id": "8a84780e",
   "metadata": {},
   "outputs": [
    {
     "data": {
      "text/html": [
       "<div>\n",
       "<style scoped>\n",
       "    .dataframe tbody tr th:only-of-type {\n",
       "        vertical-align: middle;\n",
       "    }\n",
       "\n",
       "    .dataframe tbody tr th {\n",
       "        vertical-align: top;\n",
       "    }\n",
       "\n",
       "    .dataframe thead th {\n",
       "        text-align: right;\n",
       "    }\n",
       "</style>\n",
       "<table border=\"1\" class=\"dataframe\">\n",
       "  <thead>\n",
       "    <tr style=\"text-align: right;\">\n",
       "      <th></th>\n",
       "      <th>Country_Code</th>\n",
       "      <th>Year</th>\n",
       "      <th>Population_Change</th>\n",
       "      <th>Inflation_Diff</th>\n",
       "      <th>Military_Diff</th>\n",
       "      <th>Export_Diff</th>\n",
       "      <th>Life_Diff</th>\n",
       "      <th>GDP_Diff</th>\n",
       "    </tr>\n",
       "  </thead>\n",
       "  <tbody>\n",
       "    <tr>\n",
       "      <th>94</th>\n",
       "      <td>AFE</td>\n",
       "      <td>1991</td>\n",
       "      <td>0</td>\n",
       "      <td>0.052202</td>\n",
       "      <td>-0.012500</td>\n",
       "      <td>-0.013075</td>\n",
       "      <td>-0.002066</td>\n",
       "      <td>0.034620</td>\n",
       "    </tr>\n",
       "    <tr>\n",
       "      <th>95</th>\n",
       "      <td>AFE</td>\n",
       "      <td>1992</td>\n",
       "      <td>0</td>\n",
       "      <td>-0.015105</td>\n",
       "      <td>-0.006331</td>\n",
       "      <td>0.012312</td>\n",
       "      <td>-0.001786</td>\n",
       "      <td>-0.012690</td>\n",
       "    </tr>\n",
       "    <tr>\n",
       "      <th>96</th>\n",
       "      <td>AFE</td>\n",
       "      <td>1993</td>\n",
       "      <td>0</td>\n",
       "      <td>-0.030320</td>\n",
       "      <td>0.001489</td>\n",
       "      <td>0.000199</td>\n",
       "      <td>-0.001315</td>\n",
       "      <td>0.048812</td>\n",
       "    </tr>\n",
       "    <tr>\n",
       "      <th>97</th>\n",
       "      <td>AFE</td>\n",
       "      <td>1994</td>\n",
       "      <td>0</td>\n",
       "      <td>0.017172</td>\n",
       "      <td>-0.004847</td>\n",
       "      <td>0.010337</td>\n",
       "      <td>-0.000951</td>\n",
       "      <td>0.015282</td>\n",
       "    </tr>\n",
       "    <tr>\n",
       "      <th>98</th>\n",
       "      <td>AFE</td>\n",
       "      <td>1995</td>\n",
       "      <td>0</td>\n",
       "      <td>-0.025642</td>\n",
       "      <td>-0.004848</td>\n",
       "      <td>0.006704</td>\n",
       "      <td>-0.000657</td>\n",
       "      <td>0.122841</td>\n",
       "    </tr>\n",
       "    <tr>\n",
       "      <th>...</th>\n",
       "      <td>...</td>\n",
       "      <td>...</td>\n",
       "      <td>...</td>\n",
       "      <td>...</td>\n",
       "      <td>...</td>\n",
       "      <td>...</td>\n",
       "      <td>...</td>\n",
       "      <td>...</td>\n",
       "    </tr>\n",
       "    <tr>\n",
       "      <th>16750</th>\n",
       "      <td>ZWE</td>\n",
       "      <td>2015</td>\n",
       "      <td>0</td>\n",
       "      <td>-0.022332</td>\n",
       "      <td>-0.000012</td>\n",
       "      <td>-0.017700</td>\n",
       "      <td>0.019243</td>\n",
       "      <td>0.023985</td>\n",
       "    </tr>\n",
       "    <tr>\n",
       "      <th>16751</th>\n",
       "      <td>ZWE</td>\n",
       "      <td>2016</td>\n",
       "      <td>0</td>\n",
       "      <td>0.008873</td>\n",
       "      <td>-0.001444</td>\n",
       "      <td>0.007834</td>\n",
       "      <td>0.012766</td>\n",
       "      <td>0.029332</td>\n",
       "    </tr>\n",
       "    <tr>\n",
       "      <th>16752</th>\n",
       "      <td>ZWE</td>\n",
       "      <td>2017</td>\n",
       "      <td>0</td>\n",
       "      <td>0.024376</td>\n",
       "      <td>-0.001975</td>\n",
       "      <td>-0.002846</td>\n",
       "      <td>0.008591</td>\n",
       "      <td>-0.144232</td>\n",
       "    </tr>\n",
       "    <tr>\n",
       "      <th>16753</th>\n",
       "      <td>ZWE</td>\n",
       "      <td>2018</td>\n",
       "      <td>0</td>\n",
       "      <td>0.097249</td>\n",
       "      <td>-0.003222</td>\n",
       "      <td>0.083909</td>\n",
       "      <td>0.006298</td>\n",
       "      <td>0.030177</td>\n",
       "    </tr>\n",
       "    <tr>\n",
       "      <th>16754</th>\n",
       "      <td>ZWE</td>\n",
       "      <td>2019</td>\n",
       "      <td>1</td>\n",
       "      <td>2.446861</td>\n",
       "      <td>-0.005242</td>\n",
       "      <td>0.032013</td>\n",
       "      <td>0.004821</td>\n",
       "      <td>0.064516</td>\n",
       "    </tr>\n",
       "  </tbody>\n",
       "</table>\n",
       "<p>7278 rows × 8 columns</p>\n",
       "</div>"
      ],
      "text/plain": [
       "      Country_Code  Year  Population_Change  Inflation_Diff  Military_Diff  \\\n",
       "94             AFE  1991                  0        0.052202      -0.012500   \n",
       "95             AFE  1992                  0       -0.015105      -0.006331   \n",
       "96             AFE  1993                  0       -0.030320       0.001489   \n",
       "97             AFE  1994                  0        0.017172      -0.004847   \n",
       "98             AFE  1995                  0       -0.025642      -0.004848   \n",
       "...            ...   ...                ...             ...            ...   \n",
       "16750          ZWE  2015                  0       -0.022332      -0.000012   \n",
       "16751          ZWE  2016                  0        0.008873      -0.001444   \n",
       "16752          ZWE  2017                  0        0.024376      -0.001975   \n",
       "16753          ZWE  2018                  0        0.097249      -0.003222   \n",
       "16754          ZWE  2019                  1        2.446861      -0.005242   \n",
       "\n",
       "       Export_Diff  Life_Diff  GDP_Diff  \n",
       "94       -0.013075  -0.002066  0.034620  \n",
       "95        0.012312  -0.001786 -0.012690  \n",
       "96        0.000199  -0.001315  0.048812  \n",
       "97        0.010337  -0.000951  0.015282  \n",
       "98        0.006704  -0.000657  0.122841  \n",
       "...            ...        ...       ...  \n",
       "16750    -0.017700   0.019243  0.023985  \n",
       "16751     0.007834   0.012766  0.029332  \n",
       "16752    -0.002846   0.008591 -0.144232  \n",
       "16753     0.083909   0.006298  0.030177  \n",
       "16754     0.032013   0.004821  0.064516  \n",
       "\n",
       "[7278 rows x 8 columns]"
      ]
     },
     "execution_count": 18,
     "metadata": {},
     "output_type": "execute_result"
    }
   ],
   "source": [
    "df = machine_learning_df.dropna()\n",
    "df"
   ]
  },
  {
   "cell_type": "markdown",
   "id": "8cf151c8",
   "metadata": {},
   "source": [
    " ### Separate the Features (X) from the Target (y)"
   ]
  },
  {
   "cell_type": "code",
   "execution_count": 19,
   "id": "e85bac35",
   "metadata": {},
   "outputs": [],
   "source": [
    "y = df['Population_Change']\n",
    "X = df.drop(columns=['Population_Change', 'Country_Code', 'Year'])"
   ]
  },
  {
   "cell_type": "code",
   "execution_count": 20,
   "id": "c6247890",
   "metadata": {},
   "outputs": [
    {
     "data": {
      "text/plain": [
       "0    4484\n",
       "1    2794\n",
       "Name: Population_Change, dtype: int64"
      ]
     },
     "execution_count": 20,
     "metadata": {},
     "output_type": "execute_result"
    }
   ],
   "source": [
    "# Check the balance of our target values\n",
    "y.value_counts()"
   ]
  },
  {
   "cell_type": "markdown",
   "id": "4167fd5e",
   "metadata": {},
   "source": [
    " ### Split our data into training and testing"
   ]
  },
  {
   "cell_type": "code",
   "execution_count": 6,
   "id": "d2945dee",
   "metadata": {},
   "outputs": [
    {
     "data": {
      "text/plain": [
       "(5458, 5)"
      ]
     },
     "execution_count": 6,
     "metadata": {},
     "output_type": "execute_result"
    }
   ],
   "source": [
    "from sklearn.model_selection import train_test_split\n",
    "\n",
    "X_train, X_test, y_train, y_test = train_test_split(X, \n",
    "                                                    y, \n",
    "                                                    random_state=1, \n",
    "                                                    stratify=y)\n",
    "X_train.shape"
   ]
  },
  {
   "cell_type": "markdown",
   "id": "a6483f54",
   "metadata": {},
   "source": [
    " ## Create a Logistic Regression Model"
   ]
  },
  {
   "cell_type": "code",
   "execution_count": 7,
   "id": "62165b64",
   "metadata": {},
   "outputs": [],
   "source": [
    "classifier = LogisticRegression(solver='lbfgs',\n",
    "                                max_iter=200,\n",
    "                                random_state=1)"
   ]
  },
  {
   "cell_type": "markdown",
   "id": "fc621303",
   "metadata": {},
   "source": [
    " ### Fit (train) or model using the training data"
   ]
  },
  {
   "cell_type": "code",
   "execution_count": 8,
   "id": "79d26f25",
   "metadata": {},
   "outputs": [
    {
     "data": {
      "text/plain": [
       "LogisticRegression(max_iter=200, random_state=1)"
      ]
     },
     "execution_count": 8,
     "metadata": {},
     "output_type": "execute_result"
    }
   ],
   "source": [
    "classifier.fit(X_train, y_train)"
   ]
  },
  {
   "cell_type": "markdown",
   "id": "cca0a120",
   "metadata": {},
   "source": [
    " ### Make predictions and measure outcomes"
   ]
  },
  {
   "cell_type": "code",
   "execution_count": 9,
   "id": "aecd3810",
   "metadata": {
    "scrolled": true
   },
   "outputs": [
    {
     "data": {
      "text/html": [
       "<div>\n",
       "<style scoped>\n",
       "    .dataframe tbody tr th:only-of-type {\n",
       "        vertical-align: middle;\n",
       "    }\n",
       "\n",
       "    .dataframe tbody tr th {\n",
       "        vertical-align: top;\n",
       "    }\n",
       "\n",
       "    .dataframe thead th {\n",
       "        text-align: right;\n",
       "    }\n",
       "</style>\n",
       "<table border=\"1\" class=\"dataframe\">\n",
       "  <thead>\n",
       "    <tr style=\"text-align: right;\">\n",
       "      <th></th>\n",
       "      <th>Prediction</th>\n",
       "      <th>Actual</th>\n",
       "    </tr>\n",
       "  </thead>\n",
       "  <tbody>\n",
       "    <tr>\n",
       "      <th>0</th>\n",
       "      <td>0</td>\n",
       "      <td>1</td>\n",
       "    </tr>\n",
       "    <tr>\n",
       "      <th>1</th>\n",
       "      <td>0</td>\n",
       "      <td>0</td>\n",
       "    </tr>\n",
       "    <tr>\n",
       "      <th>2</th>\n",
       "      <td>0</td>\n",
       "      <td>1</td>\n",
       "    </tr>\n",
       "    <tr>\n",
       "      <th>3</th>\n",
       "      <td>0</td>\n",
       "      <td>0</td>\n",
       "    </tr>\n",
       "    <tr>\n",
       "      <th>4</th>\n",
       "      <td>0</td>\n",
       "      <td>0</td>\n",
       "    </tr>\n",
       "    <tr>\n",
       "      <th>...</th>\n",
       "      <td>...</td>\n",
       "      <td>...</td>\n",
       "    </tr>\n",
       "    <tr>\n",
       "      <th>1815</th>\n",
       "      <td>0</td>\n",
       "      <td>0</td>\n",
       "    </tr>\n",
       "    <tr>\n",
       "      <th>1816</th>\n",
       "      <td>0</td>\n",
       "      <td>0</td>\n",
       "    </tr>\n",
       "    <tr>\n",
       "      <th>1817</th>\n",
       "      <td>0</td>\n",
       "      <td>0</td>\n",
       "    </tr>\n",
       "    <tr>\n",
       "      <th>1818</th>\n",
       "      <td>0</td>\n",
       "      <td>0</td>\n",
       "    </tr>\n",
       "    <tr>\n",
       "      <th>1819</th>\n",
       "      <td>0</td>\n",
       "      <td>1</td>\n",
       "    </tr>\n",
       "  </tbody>\n",
       "</table>\n",
       "<p>1820 rows × 2 columns</p>\n",
       "</div>"
      ],
      "text/plain": [
       "      Prediction  Actual\n",
       "0              0       1\n",
       "1              0       0\n",
       "2              0       1\n",
       "3              0       0\n",
       "4              0       0\n",
       "...          ...     ...\n",
       "1815           0       0\n",
       "1816           0       0\n",
       "1817           0       0\n",
       "1818           0       0\n",
       "1819           0       1\n",
       "\n",
       "[1820 rows x 2 columns]"
      ]
     },
     "execution_count": 9,
     "metadata": {},
     "output_type": "execute_result"
    }
   ],
   "source": [
    "y_pred = classifier.predict(X_test)\n",
    "results = pd.DataFrame({\"Prediction\": y_pred, \"Actual\": y_test}).reset_index(drop=True)\n",
    "results"
   ]
  },
  {
   "cell_type": "code",
   "execution_count": 12,
   "id": "a99177a0",
   "metadata": {},
   "outputs": [
    {
     "name": "stdout",
     "output_type": "stream",
     "text": [
      "0.6142857142857143\n"
     ]
    }
   ],
   "source": [
    "# Calculated the accuracy score\n",
    "print(accuracy_score(y_test, y_pred))"
   ]
  },
  {
   "cell_type": "code",
   "execution_count": 13,
   "id": "0ed32403",
   "metadata": {},
   "outputs": [
    {
     "name": "stdout",
     "output_type": "stream",
     "text": [
      "[[1108   13]\n",
      " [ 689   10]]\n"
     ]
    }
   ],
   "source": [
    "# Display the confusion matrix\n",
    "matrix = confusion_matrix(y_test, y_pred)\n",
    "print(matrix)"
   ]
  },
  {
   "cell_type": "code",
   "execution_count": 14,
   "id": "ee980a5d",
   "metadata": {},
   "outputs": [
    {
     "name": "stdout",
     "output_type": "stream",
     "text": [
      "              precision    recall  f1-score   support\n",
      "\n",
      "           0       0.62      0.99      0.76      1121\n",
      "           1       0.43      0.01      0.03       699\n",
      "\n",
      "    accuracy                           0.61      1820\n",
      "   macro avg       0.53      0.50      0.39      1820\n",
      "weighted avg       0.55      0.61      0.48      1820\n",
      "\n",
      "                   pre       rec       spe        f1       geo       iba       sup\n",
      "\n",
      "          0       0.62      0.99      0.01      0.76      0.12      0.02      1121\n",
      "          1       0.43      0.01      0.99      0.03      0.12      0.01       699\n",
      "\n",
      "avg / total       0.55      0.61      0.39      0.48      0.12      0.01      1820\n",
      "\n"
     ]
    }
   ],
   "source": [
    "# Print the classification report\n",
    "report = classification_report(y_test, y_pred)\n",
    "print(report)\n",
    "\n",
    "# Print the imbalanced classification report\n",
    "print(classification_report_imbalanced(y_test, y_pred))"
   ]
  },
  {
   "cell_type": "code",
   "execution_count": null,
   "id": "3ed4fdf5",
   "metadata": {},
   "outputs": [],
   "source": []
  },
  {
   "cell_type": "code",
   "execution_count": null,
   "id": "cf69febb",
   "metadata": {},
   "outputs": [],
   "source": []
  },
  {
   "cell_type": "code",
   "execution_count": null,
   "id": "2795611e",
   "metadata": {},
   "outputs": [],
   "source": []
  }
 ],
 "metadata": {
  "kernelspec": {
   "display_name": "mlenv",
   "language": "python",
   "name": "mlenv"
  },
  "language_info": {
   "codemirror_mode": {
    "name": "ipython",
    "version": 3
   },
   "file_extension": ".py",
   "mimetype": "text/x-python",
   "name": "python",
   "nbconvert_exporter": "python",
   "pygments_lexer": "ipython3",
   "version": "3.7.11"
  }
 },
 "nbformat": 4,
 "nbformat_minor": 5
}
